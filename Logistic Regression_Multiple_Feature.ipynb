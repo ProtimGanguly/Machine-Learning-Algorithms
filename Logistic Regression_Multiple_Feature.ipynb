{
  "nbformat": 4,
  "nbformat_minor": 0,
  "metadata": {
    "colab": {
      "name": "Assignment_3_MachineLearning.ipynb",
      "version": "0.3.2",
      "provenance": [],
      "collapsed_sections": []
    },
    "kernelspec": {
      "display_name": "Python 3",
      "language": "python",
      "name": "python3"
    }
  },
  "cells": [
    {
      "metadata": {
        "id": "03wPL0wpL2WL",
        "colab_type": "text"
      },
      "cell_type": "markdown",
      "source": [
        "NAME - PROTIM GANGULY (SID - 18230445)\n",
        "NAME - KOUSTAVA GOSWAMI (SID - 18234857)"
      ]
    },
    {
      "metadata": {
        "colab_type": "code",
        "id": "rQyAzVsEez-T",
        "colab": {}
      },
      "cell_type": "code",
      "source": [
        "# Contributor - PROTIM GANGULY\n",
        "#This is the part where we have imported all the libraries that is needed for the logistic algorithm building and accuracy description\n",
        "import csv \n",
        "import numpy as np\n",
        "import pandas as pd\n",
        "#Advanced optimization\n",
        "from scipy import optimize as op\n",
        "from sklearn.model_selection import train_test_split"
      ],
      "execution_count": 0,
      "outputs": []
    },
    {
      "metadata": {
        "colab_type": "code",
        "id": "jneW8ZC3gmIn",
        "outputId": "a472bdc2-9d5c-42f8-ea11-4aa529eb50c5",
        "colab": {
          "resources": {
            "http://localhost:8080/nbextensions/google.colab/files.js": {
              "data": "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",
              "ok": true,
              "headers": [
                [
                  "content-type",
                  "application/javascript"
                ]
              ],
              "status": 200,
              "status_text": "OK"
            }
          },
          "base_uri": "https://localhost:8080/",
          "height": 75
        }
      },
      "cell_type": "code",
      "source": [
        "# Contributor - KOUSTAVA GOSWAMI\n",
        "#This section has been introduced to upload the file \"owls.csv\" in cache to read\n",
        "from google.colab import files\n",
        "uploaded = files.upload()"
      ],
      "execution_count": 2,
      "outputs": [
        {
          "output_type": "display_data",
          "data": {
            "text/html": [
              "\n",
              "     <input type=\"file\" id=\"files-c30d041f-5dd7-4524-b565-18da70ff6bce\" name=\"files[]\" multiple disabled />\n",
              "     <output id=\"result-c30d041f-5dd7-4524-b565-18da70ff6bce\">\n",
              "      Upload widget is only available when the cell has been executed in the\n",
              "      current browser session. Please rerun this cell to enable.\n",
              "      </output>\n",
              "      <script src=\"/nbextensions/google.colab/files.js\"></script> "
            ],
            "text/plain": [
              "<IPython.core.display.HTML object>"
            ]
          },
          "metadata": {
            "tags": []
          }
        },
        {
          "output_type": "stream",
          "text": [
            "Saving owls.csv to owls (1).csv\n"
          ],
          "name": "stdout"
        }
      ]
    },
    {
      "metadata": {
        "colab_type": "code",
        "id": "FW-Uayytez-h",
        "colab": {}
      },
      "cell_type": "code",
      "source": [
        "# Contributor - KOUSTAVA GOSWAMI\n",
        "#This section reads the file first. Then From the file it differentiate the features part which is X and the class part\n",
        "#which is y. We have taken class always the last column of the input CSV. Any unlabelled CSV file can also be read\n",
        "#and work on as we have generalised the features and class differentiate part. Till the last column all the columns\n",
        "#will be taken as different features. We then hasve normalised the data based on the maximum and minimum value of the fe\n",
        "#features and divind that with the range of feature data. Now there is a main work to do. As there is no feature for \n",
        "#the 0th theta, we are adding a bias term 1 as X(0) feature in the feature vector so that vector multiplication\n",
        "#will work in future algorithm process\n",
        "\n",
        "owls = pd.read_csv(\"owls.csv\",header=None)\n",
        "m = owls.shape[0]\n",
        "#Features\n",
        "n = (len(owls.columns)- 1)\n",
        "\n",
        "X = np.ones((m,n ))\n",
        "y = np.array((m,1))\n",
        "for i in range(len(owls.columns)- 1):\n",
        "  X[:,i] = owls.iloc[:,i]\n",
        "y = owls.iloc[: , -1]\n",
        "k = len(np.unique(y))#Number of classes\n",
        "#Normalisation part\n",
        "def normalize(X): \n",
        "    mins = np.min(X, axis = 0) \n",
        "    maxs = np.max(X, axis = 0) \n",
        "    rng = maxs - mins \n",
        "    norm_X = 1 - ((maxs - X)/rng) \n",
        "    return norm_X\n",
        "X = normalize(X)\n",
        "# Add bias dimension and transform into columns\n",
        "X = np.hstack((np.matrix(np.ones(X.shape[0])).T, X))\n"
      ],
      "execution_count": 0,
      "outputs": []
    },
    {
      "metadata": {
        "colab_type": "code",
        "id": "H5dK9RXVez-v",
        "colab": {}
      },
      "cell_type": "code",
      "source": [
        "#Contributor - KOUSTAVA GOSWAMI\n",
        "#Function definition \n",
        "#Below are the function definitions which are being used in the Logistic Regression alogrithm and multiclass identification\n",
        "#First function is sigmoid function which will be used for the hypothesis calculation\n",
        "#Second function is the cost function. The cost function is the differnece between the orginal classified value \n",
        "#and the hypothesis that is determined. The hypothesis function is the multiplication of feature vector and theta\n",
        "#and sigmoid value of the multiplication. We have implemented logistic regression cost formula.\n",
        "#Next We have build the gradient function. We have implemented the gradient formula using hypothesis and sigmoid\n",
        "#function. This gradient function will be used to get the optimised theta value in the gradient descent algorithm\n",
        "#We have introduced a logisticRegression function where we have implemented the gradient descent algorithm. We have \n",
        "#taken alpha(learning rate =0.005) and multiplying it with the gradient value what we got in gradient function. This\n",
        "#gave me the optimized theta.\n",
        "#The logistic predictor function holds the probability of each classifer by multiplying the optimized theta and x-\n",
        "#feature vector and sigmoid function of that multiplication. Then we take the maximum of these probabilities to get\n",
        "#the classifier for that particular feature values.\n",
        "#The score function is giving us the percentage of the accuracy when the predicted class and the original class is gettign\n",
        "#matched.\n",
        "def sigmoid(z):\n",
        "    return 1.0 / (1 + np.exp(-z))\n",
        "\n",
        "#Cost function\n",
        "def costFunction(theta, X, y):\n",
        "    m = len(y)\n",
        "    h = sigmoid(X.dot(theta))\n",
        "    return (1 / m) * (-y.T.dot(np.log(h)) - (1 - y).T.dot(np.log(1 - h))) \n",
        "\n",
        "#gradient function\n",
        "def gradient(theta, X, y,):\n",
        "    m, n = X.shape\n",
        "    theta = theta.reshape((n, 1))\n",
        "    y = y.reshape((m, 1))\n",
        "    h = sigmoid(X.dot(theta))\n",
        "    return ((1 / m) * X.T.dot(h - y))\n",
        "\n",
        "#Optimal theta \n",
        "def logisticRegression(X, y, theta , alpha):\n",
        "    for i in range(100000):\n",
        "            finaGradient = gradient(theta,X,y)\n",
        "            finaCost = costFunction (theta,X,y)\n",
        "            theta -= alpha * finaGradient\n",
        "    return theta.T\n",
        "\n",
        "#Logistic Predictor\n",
        "def logisticPredictor(x,all_theta,y):\n",
        "    P = sigmoid(x.dot(all_theta.T)) #probability for each owl\n",
        "    p = [np.unique(y)[np.argmax(P[i, :])] for i in range(x.shape[0])]\n",
        "    return p\n",
        "\n",
        "#Scoring Function\n",
        "def score(p, y):\n",
        "    return (sum(p == y)/ len(y))*100\n",
        "    \n",
        "    "
      ],
      "execution_count": 0,
      "outputs": []
    },
    {
      "metadata": {
        "colab_type": "code",
        "id": "nhic_nX8ez-3",
        "outputId": "8b3f3711-58b5-4128-b04e-c36d3a16d5f4",
        "colab": {
          "base_uri": "https://localhost:8080/",
          "height": 256
        }
      },
      "cell_type": "code",
      "source": [
        "# Contributor - PROTIM GANGULY\n",
        "#First we have splitted the dataset with 70-30 Train Test split ratio. Initially we have considered theta as zero with learning rate alpha = 0.005.\n",
        "#We call our classifier for all the class labels and then we predict our highest class probability with argmax. This procedure should be repeated \n",
        "#with different random divisions 10 times, and the individual results and accuracy reported.\n",
        "from sklearn.model_selection import train_test_split\n",
        "from itertools import product\n",
        "b=[]\n",
        "avergAccuracy=[]\n",
        "sum_theta=np.zeros((k, n + 1))\n",
        "for i in range(10):\n",
        "    X_train, X_test, y_train, y_test = train_test_split(X, y, test_size = 0.3)\n",
        "    all_theta = np.zeros((k, n + 1))\n",
        "    #print(all_theta.shape)\n",
        "    alpha = 0.005\n",
        "    #One vs all\n",
        "    i = 0\n",
        "    for o in np.unique(y):\n",
        "        #set the labels in 0 and 1\n",
        "        tmp_y = np.array(y_train == o, dtype = int)\n",
        "        optTheta = logisticRegression(X_train, tmp_y, np.zeros((n + 1,1)), alpha)\n",
        "        all_theta[i] = optTheta\n",
        "        i += 1\n",
        "        \n",
        "    sum_theta += all_theta    \n",
        "    \n",
        "    #Predictions\n",
        "    p = logisticPredictor(X_test,all_theta,y_test)\n",
        "    \n",
        "    accuracy = score(p,y_test)\n",
        "    avergAccuracy.append(accuracy)\n",
        "    print(\"The accuracy of the system is :\",accuracy,\"%\")\n",
        "    \n",
        "    yTest = y_test\n",
        "    yList = yTest.tolist()\n",
        "    i=0\n",
        "    l=len(p)\n",
        "    a =[]\n",
        "    while(i<l):\n",
        "        out =\"Actual \",yList[i],\" Predicted \",p[i]\n",
        "        a.append(out)\n",
        "        i = i+1\n",
        "    b.append(a)\n",
        "print(sum_theta/10)\n",
        "\n",
        "  "
      ],
      "execution_count": 0,
      "outputs": [
        {
          "output_type": "stream",
          "text": [
            "The accuracy of the system is : 90.2439024390244 %\n",
            "The accuracy of the system is : 87.8048780487805 %\n",
            "The accuracy of the system is : 87.8048780487805 %\n",
            "The accuracy of the system is : 92.6829268292683 %\n",
            "The accuracy of the system is : 85.36585365853658 %\n",
            "The accuracy of the system is : 97.5609756097561 %\n",
            "The accuracy of the system is : 97.5609756097561 %\n",
            "The accuracy of the system is : 100.0 %\n",
            "The accuracy of the system is : 95.1219512195122 %\n",
            "The accuracy of the system is : 85.36585365853658 %\n",
            "[[ 1.21214031 -4.98042095  0.01295993  1.9975092  -1.48283781]\n",
            " [ 2.30604221  4.58719832 -3.05233363 -6.1608834  -6.13159404]\n",
            " [-7.53609418 -2.84414092  1.15817951  4.82576002  7.58747752]]\n"
          ],
          "name": "stdout"
        }
      ]
    },
    {
      "metadata": {
        "colab_type": "code",
        "id": "ZZV3raXOez_B",
        "colab": {}
      },
      "cell_type": "code",
      "source": [
        "#Contributor - KOUSTAVA GOSWAMI\n",
        "#This part is writing the file using python file writing function. We are taking the predicted and original class values\n",
        "#and printing the values of each iteration in the file whose name is :-\"Prediction_Logistic_Output.txt\"\n",
        "with open('Prediction_Logistic_Output.txt', 'w') as f:#Please change the file writing location accroding to yur system\n",
        "    for i in range(len(b)):\n",
        "        for item in b:\n",
        "            f.write(\"%s\\n\" % item) "
      ],
      "execution_count": 0,
      "outputs": []
    },
    {
      "metadata": {
        "colab_type": "code",
        "id": "29ELRAXcez_G",
        "outputId": "3f29532b-6d69-43e8-e31b-a3a89c5d6748",
        "colab": {
          "base_uri": "https://localhost:8080/",
          "height": 374
        }
      },
      "cell_type": "code",
      "source": [
        "#Contributor - PROTIM GANGULY\n",
        "# Average accuracy is computed and Confusion matrix and classification Report is generated. Here we have also shown the visualization of the\n",
        "#data set.\n",
        "from sklearn.metrics import confusion_matrix\n",
        "from sklearn.metrics import classification_report\n",
        "def avgAccuracy():\n",
        "    sum=0\n",
        "    for i in range(len(avergAccuracy)):\n",
        "      sum= sum + avergAccuracy[i]\n",
        "    print(\"The average accuracy of the system after the iteration is : \",(sum/10),\"%\")\n",
        "avgAccuracy()\n",
        "print(confusion_matrix(yList, p))\n",
        "\n",
        "target_names = ['BarnOwl', 'LongEaredOwl', 'SnowyOwl']\n",
        "#To generate classification report\n",
        "print(classification_report(yList, p, target_names=target_names))\n",
        "label = pd.DataFrame(np.asarray(yList))\n",
        "print(label[0].value_counts())\n",
        "\n",
        "X_test_df = pd.DataFrame(np.asarray(X_test))\n",
        "#Plot to visualize our dataset\n",
        "sns.countplot(x = label[0], data = X_test_df, palette = 'hls')\n",
        "plt.show()\n",
        "#Variation of our attributes across the mean\n",
        "owls.groupby(label[0]).mean()"
      ],
      "execution_count": 5,
      "outputs": [
        {
          "output_type": "error",
          "ename": "NameError",
          "evalue": "ignored",
          "traceback": [
            "\u001b[0;31m---------------------------------------------------------------------------\u001b[0m",
            "\u001b[0;31mNameError\u001b[0m                                 Traceback (most recent call last)",
            "\u001b[0;32m<ipython-input-5-2c11a0673dcb>\u001b[0m in \u001b[0;36m<module>\u001b[0;34m()\u001b[0m\n\u001b[1;32m      6\u001b[0m       \u001b[0msum\u001b[0m\u001b[0;34m=\u001b[0m \u001b[0msum\u001b[0m \u001b[0;34m+\u001b[0m \u001b[0mavergAccuracy\u001b[0m\u001b[0;34m[\u001b[0m\u001b[0mi\u001b[0m\u001b[0;34m]\u001b[0m\u001b[0;34m\u001b[0m\u001b[0;34m\u001b[0m\u001b[0m\n\u001b[1;32m      7\u001b[0m     \u001b[0mprint\u001b[0m\u001b[0;34m(\u001b[0m\u001b[0;34m\"The average accuracy of the system after the iteration is : \"\u001b[0m\u001b[0;34m,\u001b[0m\u001b[0;34m(\u001b[0m\u001b[0msum\u001b[0m\u001b[0;34m/\u001b[0m\u001b[0;36m10\u001b[0m\u001b[0;34m)\u001b[0m\u001b[0;34m,\u001b[0m\u001b[0;34m\"%\"\u001b[0m\u001b[0;34m)\u001b[0m\u001b[0;34m\u001b[0m\u001b[0;34m\u001b[0m\u001b[0m\n\u001b[0;32m----> 8\u001b[0;31m \u001b[0mavgAccuracy\u001b[0m\u001b[0;34m(\u001b[0m\u001b[0;34m)\u001b[0m\u001b[0;34m\u001b[0m\u001b[0;34m\u001b[0m\u001b[0m\n\u001b[0m\u001b[1;32m      9\u001b[0m \u001b[0mprint\u001b[0m\u001b[0;34m(\u001b[0m\u001b[0mconfusion_matrix\u001b[0m\u001b[0;34m(\u001b[0m\u001b[0myList\u001b[0m\u001b[0;34m,\u001b[0m \u001b[0mp\u001b[0m\u001b[0;34m)\u001b[0m\u001b[0;34m)\u001b[0m\u001b[0;34m\u001b[0m\u001b[0;34m\u001b[0m\u001b[0m\n\u001b[1;32m     10\u001b[0m \u001b[0;34m\u001b[0m\u001b[0m\n",
            "\u001b[0;32m<ipython-input-5-2c11a0673dcb>\u001b[0m in \u001b[0;36mavgAccuracy\u001b[0;34m()\u001b[0m\n\u001b[1;32m      3\u001b[0m \u001b[0;32mdef\u001b[0m \u001b[0mavgAccuracy\u001b[0m\u001b[0;34m(\u001b[0m\u001b[0;34m)\u001b[0m\u001b[0;34m:\u001b[0m\u001b[0;34m\u001b[0m\u001b[0;34m\u001b[0m\u001b[0m\n\u001b[1;32m      4\u001b[0m     \u001b[0msum\u001b[0m\u001b[0;34m=\u001b[0m\u001b[0;36m0\u001b[0m\u001b[0;34m\u001b[0m\u001b[0;34m\u001b[0m\u001b[0m\n\u001b[0;32m----> 5\u001b[0;31m     \u001b[0;32mfor\u001b[0m \u001b[0mi\u001b[0m \u001b[0;32min\u001b[0m \u001b[0mrange\u001b[0m\u001b[0;34m(\u001b[0m\u001b[0mlen\u001b[0m\u001b[0;34m(\u001b[0m\u001b[0mavergAccuracy\u001b[0m\u001b[0;34m)\u001b[0m\u001b[0;34m)\u001b[0m\u001b[0;34m:\u001b[0m\u001b[0;34m\u001b[0m\u001b[0;34m\u001b[0m\u001b[0m\n\u001b[0m\u001b[1;32m      6\u001b[0m       \u001b[0msum\u001b[0m\u001b[0;34m=\u001b[0m \u001b[0msum\u001b[0m \u001b[0;34m+\u001b[0m \u001b[0mavergAccuracy\u001b[0m\u001b[0;34m[\u001b[0m\u001b[0mi\u001b[0m\u001b[0;34m]\u001b[0m\u001b[0;34m\u001b[0m\u001b[0;34m\u001b[0m\u001b[0m\n\u001b[1;32m      7\u001b[0m     \u001b[0mprint\u001b[0m\u001b[0;34m(\u001b[0m\u001b[0;34m\"The average accuracy of the system after the iteration is : \"\u001b[0m\u001b[0;34m,\u001b[0m\u001b[0;34m(\u001b[0m\u001b[0msum\u001b[0m\u001b[0;34m/\u001b[0m\u001b[0;36m10\u001b[0m\u001b[0;34m)\u001b[0m\u001b[0;34m,\u001b[0m\u001b[0;34m\"%\"\u001b[0m\u001b[0;34m)\u001b[0m\u001b[0;34m\u001b[0m\u001b[0;34m\u001b[0m\u001b[0m\n",
            "\u001b[0;31mNameError\u001b[0m: name 'avergAccuracy' is not defined"
          ]
        }
      ]
    },
    {
      "metadata": {
        "colab_type": "code",
        "id": "eVqNwqewez_O",
        "colab": {},
        "outputId": "50b5f683-3398-41b0-c19d-9a8a859afef2"
      },
      "cell_type": "code",
      "source": [
        "#Contributor - PROTIM GANGULY\n",
        "#Graph for iteration vs accuracy to visualize the accuracy on randomn splits\n",
        "import matplotlib.pyplot as plt\n",
        "plt.plot([0,1,2,3,4,5,6,7,8,9], avergAccuracy, 'ro')\n",
        "plt.axis([0, 10,70,100 ])\n",
        "plt.xlabel('Iterations')\n",
        "plt.ylabel('Accuracy(In percentage)')\n",
        "plt.title('Iteration vs Accuracy')\n",
        "plt.grid(True)\n",
        "plt.show()"
      ],
      "execution_count": 0,
      "outputs": [
        {
          "output_type": "display_data",
          "data": {
            "image/png": "[encoded data removed]",
            "text/plain": [
              "<Figure size 432x288 with 1 Axes>"
            ]
          },
          "metadata": {
            "tags": [],
            "needs_background": "light"
          }
        }
      ]
    },
    {
      "metadata": {
        "id": "UN1MCNBsIx8p",
        "colab_type": "code",
        "colab": {}
      },
      "cell_type": "code",
      "source": [
        ""
      ],
      "execution_count": 0,
      "outputs": []
    },
    {
      "metadata": {
        "id": "Ncl8-RuAIx8y",
        "colab_type": "code",
        "colab": {}
      },
      "cell_type": "code",
      "source": [
        ""
      ],
      "execution_count": 0,
      "outputs": []
    }
  ]
}